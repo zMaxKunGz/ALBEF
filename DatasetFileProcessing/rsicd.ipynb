{
 "cells": [
  {
   "cell_type": "code",
   "execution_count": 1,
   "metadata": {},
   "outputs": [],
   "source": [
    "import json"
   ]
  },
  {
   "cell_type": "code",
   "execution_count": 2,
   "metadata": {},
   "outputs": [
    {
     "data": {
      "text/plain": [
       "{'filename': 'airport_1.jpg',\n",
       " 'imgid': 0,\n",
       " 'sentences': [{'tokens': ['many',\n",
       "    'planes',\n",
       "    'are',\n",
       "    'parked',\n",
       "    'next',\n",
       "    'to',\n",
       "    'a',\n",
       "    'long',\n",
       "    'building',\n",
       "    'in',\n",
       "    'an',\n",
       "    'airport'],\n",
       "   'raw': 'many planes are parked next to a long building in an airport .',\n",
       "   'imgid': 0,\n",
       "   'sentid': 0},\n",
       "  {'tokens': ['many',\n",
       "    'planes',\n",
       "    'are',\n",
       "    'parked',\n",
       "    'next',\n",
       "    'to',\n",
       "    'a',\n",
       "    'long',\n",
       "    'building',\n",
       "    'in',\n",
       "    'an',\n",
       "    'airport'],\n",
       "   'raw': 'many planes are parked next to a long building in an airport .',\n",
       "   'imgid': 0,\n",
       "   'sentid': 1},\n",
       "  {'tokens': ['many',\n",
       "    'planes',\n",
       "    'are',\n",
       "    'parked',\n",
       "    'next',\n",
       "    'to',\n",
       "    'a',\n",
       "    'long',\n",
       "    'building',\n",
       "    'in',\n",
       "    'an',\n",
       "    'airport'],\n",
       "   'raw': 'many planes are parked next to a long building in an airport .',\n",
       "   'imgid': 0,\n",
       "   'sentid': 2},\n",
       "  {'tokens': ['many',\n",
       "    'planes',\n",
       "    'are',\n",
       "    'parked',\n",
       "    'next',\n",
       "    'to',\n",
       "    'a',\n",
       "    'long',\n",
       "    'building',\n",
       "    'in',\n",
       "    'an',\n",
       "    'airport'],\n",
       "   'raw': 'many planes are parked next to a long building in an airport .',\n",
       "   'imgid': 0,\n",
       "   'sentid': 3},\n",
       "  {'tokens': ['many',\n",
       "    'planes',\n",
       "    'are',\n",
       "    'parked',\n",
       "    'next',\n",
       "    'to',\n",
       "    'a',\n",
       "    'long',\n",
       "    'building',\n",
       "    'in',\n",
       "    'an',\n",
       "    'airport'],\n",
       "   'raw': 'many planes are parked next to a long building in an airport .',\n",
       "   'imgid': 0,\n",
       "   'sentid': 4}],\n",
       " 'split': 'train',\n",
       " 'sentids': [0, 1, 2, 3, 4]}"
      ]
     },
     "execution_count": 2,
     "metadata": {},
     "output_type": "execute_result"
    }
   ],
   "source": [
    "with open('/home/pasitt/Dataset/CV/RemoteSensing/rsicd/dataset_rsicd.json', 'r') as file:\n",
    "    data = json.load(file)\n",
    "\n",
    "data['images'][0]"
   ]
  },
  {
   "cell_type": "code",
   "execution_count": 3,
   "metadata": {},
   "outputs": [
    {
     "data": {
      "text/plain": [
       "(7644, 8736)"
      ]
     },
     "execution_count": 3,
     "metadata": {},
     "output_type": "execute_result"
    }
   ],
   "source": [
    "data_len = len(data['images'])\n",
    "\n",
    "train_split_idx = int(data_len * 0.7)\n",
    "val_split_idx = int(data_len * 0.1) + train_split_idx\n",
    "\n",
    "(train_split_idx, val_split_idx)"
   ]
  },
  {
   "cell_type": "code",
   "execution_count": 4,
   "metadata": {},
   "outputs": [],
   "source": [
    "# prepare pre-training file json\n",
    "new_data = []\n",
    "for image in data['images'][:train_split_idx]:\n",
    "    captions = []\n",
    "    for caption in image['sentences']:\n",
    "        captions.append(caption['raw'])\n",
    "    new_data.append({'image': '/home/pasitt/Dataset/CV/RemoteSensing/rsicd/RSICD_images/' + image['filename'],\n",
    "                      'caption': captions})\n",
    "with open(\"train_rsicd.json\", \"w\") as f:\n",
    "    json.dump(new_data, f)"
   ]
  },
  {
   "cell_type": "code",
   "execution_count": 5,
   "metadata": {},
   "outputs": [],
   "source": [
    "# prepare pre-training file json\n",
    "new_data = []\n",
    "for image in data['images'][train_split_idx:]:\n",
    "    captions = []\n",
    "    for caption in image['sentences']:\n",
    "        captions.append(caption['raw'])\n",
    "    new_data.append({'image': '/home/pasitt/Dataset/CV/RemoteSensing/rsicd/RSICD_images/' + image['filename'],\n",
    "                      'caption': captions})\n",
    "with open(\"test_rsicd.json\", \"w\") as f:\n",
    "    json.dump(new_data, f)"
   ]
  }
 ],
 "metadata": {
  "kernelspec": {
   "display_name": "Python 3 (ipykernel)",
   "language": "python",
   "name": "python3"
  },
  "language_info": {
   "codemirror_mode": {
    "name": "ipython",
    "version": 3
   },
   "file_extension": ".py",
   "mimetype": "text/x-python",
   "name": "python",
   "nbconvert_exporter": "python",
   "pygments_lexer": "ipython3",
   "version": "3.10.6"
  }
 },
 "nbformat": 4,
 "nbformat_minor": 4
}
