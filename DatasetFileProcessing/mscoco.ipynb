{
 "cells": [
  {
   "cell_type": "code",
   "execution_count": null,
   "metadata": {},
   "outputs": [],
   "source": [
    "import json\n",
    "\n",
    "def transform_json_to_images(json_file_path):\n",
    "    # Load the JSON file\n",
    "    with open(json_file_path, 'r') as file:\n",
    "        data = json.load(file)\n",
    "    \n",
    "    # Initialize the result list\n",
    "    result = []\n",
    "    \n",
    "    # Create a mapping of image IDs to their captions\n",
    "    image_caption_mapping = {}\n",
    "    print('create caption mapping')\n",
    "    for annotation in tqdm(data['annotations']):\n",
    "        image_id = annotation['image_id']\n",
    "        caption = annotation['caption']\n",
    "        if image_id not in image_caption_mapping:\n",
    "            image_caption_mapping[image_id] = []\n",
    "        image_caption_mapping[image_id].append(caption)\n",
    "    \n",
    "    # Create the transformed list of images\n",
    "    print('transform')\n",
    "    for image in tqdm(data['images']):\n",
    "        image_id = image['id']\n",
    "        result.append({\n",
    "            'image': '../train2017/' + image['file_name'],\n",
    "            'id': image_id,\n",
    "            'caption': image_caption_mapping.get(image_id, [])\n",
    "        })\n",
    "    \n",
    "    return result\n",
    "\n",
    "# Example usage\n",
    "json_file_path = '/home/pasitt/Dataset/CV/mscoco/2017/annotations/captions_train2017.json'\n",
    "transformed_data = transform_json_to_images(json_file_path)\n",
    "\n",
    "# Print the result\n",
    "with open(\"./data/train_mscoco.json\", \"w\") as f:\n",
    "    json.dump(transformed_data, f)\n"
   ]
  }
 ],
 "metadata": {
  "kernelspec": {
   "display_name": "Python 3 (ipykernel)",
   "language": "python",
   "name": "python3"
  },
  "language_info": {
   "codemirror_mode": {
    "name": "ipython",
    "version": 3
   },
   "file_extension": ".py",
   "mimetype": "text/x-python",
   "name": "python",
   "nbconvert_exporter": "python",
   "pygments_lexer": "ipython3",
   "version": "3.10.6"
  }
 },
 "nbformat": 4,
 "nbformat_minor": 4
}
