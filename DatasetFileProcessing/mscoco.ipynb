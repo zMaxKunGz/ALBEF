{
 "cells": [
  {
   "cell_type": "code",
   "execution_count": 5,
   "metadata": {},
   "outputs": [
    {
     "name": "stderr",
     "output_type": "stream",
     "text": [
      "100%|██████████| 591753/591753 [00:00<00:00, 2728411.16it/s]\n"
     ]
    }
   ],
   "source": [
    "import json\n",
    "from tqdm import tqdm\n",
    "\n",
    "def transform_json_to_images(json_file_path):\n",
    "    # Load the JSON file\n",
    "    with open(json_file_path, 'r') as file:\n",
    "        data = json.load(file)\n",
    "    \n",
    "    # Initialize the result list\n",
    "    result = []\n",
    "    \n",
    "    # Create a mapping of image IDs to their captions\n",
    "    image_idx_mapping = {}\n",
    "    for idx, image in enumerate(data['images']):\n",
    "        image_idx_mapping[image['id']] = idx\n",
    "    \n",
    "    # Create the transformed list of images\n",
    "    for caption in tqdm(data['annotations']):\n",
    "        image_id = caption['image_id']\n",
    "        image_idx = image_idx_mapping[image_id]\n",
    "        image = data['images'][image_idx]\n",
    "        result.append({\n",
    "            'image': '/home/pasitt/Dataset/CV/mscoco/2014/train2014/' + image['file_name'],\n",
    "            'image_id': image_id,\n",
    "            'caption': caption['caption']\n",
    "        })\n",
    "    \n",
    "    return result\n",
    "\n",
    "# Example usage\n",
    "json_file_path = '/home/pasitt/Dataset/CV/mscoco/2014/annotations/captions_train2014.json'\n",
    "transformed_data = transform_json_to_images(json_file_path)\n",
    "\n",
    "# Print the result\n",
    "with open(\"../data/train_mscoco.json\", \"w\") as f:\n",
    "    json.dump(transformed_data, f)\n"
   ]
  },
  {
   "cell_type": "code",
   "execution_count": 10,
   "metadata": {},
   "outputs": [
    {
     "name": "stdout",
     "output_type": "stream",
     "text": [
      "create caption mapping\n"
     ]
    },
    {
     "name": "stderr",
     "output_type": "stream",
     "text": [
      "100%|██████████| 202654/202654 [00:00<00:00, 5019650.53it/s]\n"
     ]
    },
    {
     "name": "stdout",
     "output_type": "stream",
     "text": [
      "transform\n"
     ]
    },
    {
     "name": "stderr",
     "output_type": "stream",
     "text": [
      "100%|██████████| 40504/40504 [00:00<00:00, 2375796.62it/s]\n"
     ]
    }
   ],
   "source": [
    "import json\n",
    "from tqdm import tqdm\n",
    "\n",
    "def transform_json_to_images(json_file_path):\n",
    "    # Load the JSON file\n",
    "    with open(json_file_path, 'r') as file:\n",
    "        data = json.load(file)\n",
    "    \n",
    "    # Initialize the result list\n",
    "    result = []\n",
    "    \n",
    "    # Create a mapping of image IDs to their captions\n",
    "    image_caption_mapping = {}\n",
    "    print('create caption mapping')\n",
    "    for annotation in tqdm(data['annotations']):\n",
    "        image_id = annotation['image_id']\n",
    "        caption = annotation['caption']\n",
    "        if image_id not in image_caption_mapping:\n",
    "            image_caption_mapping[image_id] = []\n",
    "        image_caption_mapping[image_id].append(caption)\n",
    "    \n",
    "    # Create the transformed list of images\n",
    "    print('transform')\n",
    "    for image in tqdm(data['images']):\n",
    "        image_id = image['id']\n",
    "        result.append({\n",
    "            'image': '/home/pasitt/Dataset/CV/mscoco/2014/val2014/' + image['file_name'],\n",
    "            'caption': image_caption_mapping.get(image_id, [])\n",
    "        })\n",
    "    \n",
    "    return result\n",
    "\n",
    "# Example usage\n",
    "json_file_path = '/home/pasitt/Dataset/CV/mscoco/2014/annotations/captions_val2014.json'\n",
    "transformed_data = transform_json_to_images(json_file_path)\n",
    "\n",
    "# Print the result\n",
    "with open(\"../data/mscoco_eval/val_mscoco.json\", \"w\") as f:\n",
    "    json.dump(transformed_data, f)"
   ]
  }
 ],
 "metadata": {
  "kernelspec": {
   "display_name": "Python 3 (ipykernel)",
   "language": "python",
   "name": "python3"
  },
  "language_info": {
   "codemirror_mode": {
    "name": "ipython",
    "version": 3
   },
   "file_extension": ".py",
   "mimetype": "text/x-python",
   "name": "python",
   "nbconvert_exporter": "python",
   "pygments_lexer": "ipython3",
   "version": "3.10.6"
  }
 },
 "nbformat": 4,
 "nbformat_minor": 4
}
